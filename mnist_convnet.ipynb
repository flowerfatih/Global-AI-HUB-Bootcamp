{
  "nbformat": 4,
  "nbformat_minor": 0,
  "metadata": {
    "colab": {
      "provenance": [],
      "collapsed_sections": [],
      "mount_file_id": "1XUu2AOv0VZbEnTDEyt_QwqvLtprlZ0nC",
      "authorship_tag": "ABX9TyMVVcycureazfpto4HCN31V",
      "include_colab_link": true
    },
    "kernelspec": {
      "name": "python3",
      "display_name": "Python 3"
    },
    "language_info": {
      "name": "python"
    },
    "accelerator": "GPU"
  },
  "cells": [
    {
      "cell_type": "markdown",
      "metadata": {
        "id": "view-in-github",
        "colab_type": "text"
      },
      "source": [
        "<a href=\"https://colab.research.google.com/github/flowerfatih/Global-AI-HUB-Bootcamp/blob/main/mnist_convnet.ipynb\" target=\"_parent\"><img src=\"https://colab.research.google.com/assets/colab-badge.svg\" alt=\"Open In Colab\"/></a>"
      ]
    },
    {
      "cell_type": "code",
      "execution_count": 1,
      "metadata": {
        "id": "Rc3mu1eMYME4"
      },
      "outputs": [],
      "source": [
        "import numpy as np\n",
        "import tensorflow as tf\n",
        "\n"
      ]
    },
    {
      "cell_type": "code",
      "source": [
        "# Model / data parameters\n",
        "num_classes = 10\n",
        "input_shape = (28, 28, 1)\n",
        "\n",
        "# Load the data and split it between train and test sets\n",
        "(x_train, y_train), (x_test, y_test) = tf.keras.datasets.mnist.load_data()\n",
        "\n",
        "# Scale images to the [0, 1] range\n",
        "x_train = x_train.astype(\"float32\") / 255\n",
        "x_test = x_test.astype(\"float32\") / 255\n",
        "# Make sure images have shape (28, 28, 1)\n",
        "x_train = np.expand_dims(x_train, -1)\n",
        "x_test = np.expand_dims(x_test, -1)\n",
        "print(\"x_train shape:\", x_train.shape)\n",
        "print(x_train.shape[0], \"train samples\")\n",
        "print(x_test.shape[0], \"test samples\")\n",
        "\n",
        "\n",
        "# convert class vectors to binary class matrices\n",
        "y_train = tf.keras.utils.to_categorical(y_train, num_classes)\n",
        "y_test = tf.keras.utils.to_categorical(y_test, num_classes)\n"
      ],
      "metadata": {
        "colab": {
          "base_uri": "https://localhost:8080/"
        },
        "id": "x7PnnURdYTg7",
        "outputId": "49cccddc-cea3-477f-e3a7-45a08dae6cf8"
      },
      "execution_count": 2,
      "outputs": [
        {
          "output_type": "stream",
          "name": "stdout",
          "text": [
            "x_train shape: (60000, 28, 28, 1)\n",
            "60000 train samples\n",
            "10000 test samples\n"
          ]
        }
      ]
    },
    {
      "cell_type": "code",
      "source": [
        "model = tf.keras.Sequential(\n",
        "    [\n",
        "        tf.keras.Input(shape=input_shape),\n",
        "        tf.keras.layers.Conv2D(32, kernel_size=(3, 3), activation=\"relu\"),\n",
        "        tf.keras.layers.MaxPooling2D(pool_size=(2, 2)),\n",
        "        tf.keras.layers.Conv2D(64, kernel_size=(3, 3), activation=\"relu\"),\n",
        "        tf.keras.layers.MaxPooling2D(pool_size=(2, 2)),\n",
        "        tf.keras.layers.Flatten(),\n",
        "        tf.keras.layers.Dropout(0.5),\n",
        "        tf.keras.layers.Dense(num_classes, activation=\"softmax\"),\n",
        "    ]\n",
        ")\n",
        "\n",
        "model.summary()\n"
      ],
      "metadata": {
        "colab": {
          "base_uri": "https://localhost:8080/"
        },
        "id": "em_dy_I4YhYJ",
        "outputId": "9c6a0c96-180c-4afa-bc8b-6be553b254fa"
      },
      "execution_count": 3,
      "outputs": [
        {
          "output_type": "stream",
          "name": "stdout",
          "text": [
            "Model: \"sequential\"\n",
            "_________________________________________________________________\n",
            " Layer (type)                Output Shape              Param #   \n",
            "=================================================================\n",
            " conv2d (Conv2D)             (None, 26, 26, 32)        320       \n",
            "                                                                 \n",
            " max_pooling2d (MaxPooling2D  (None, 13, 13, 32)       0         \n",
            " )                                                               \n",
            "                                                                 \n",
            " conv2d_1 (Conv2D)           (None, 11, 11, 64)        18496     \n",
            "                                                                 \n",
            " max_pooling2d_1 (MaxPooling  (None, 5, 5, 64)         0         \n",
            " 2D)                                                             \n",
            "                                                                 \n",
            " flatten (Flatten)           (None, 1600)              0         \n",
            "                                                                 \n",
            " dropout (Dropout)           (None, 1600)              0         \n",
            "                                                                 \n",
            " dense (Dense)               (None, 10)                16010     \n",
            "                                                                 \n",
            "=================================================================\n",
            "Total params: 34,826\n",
            "Trainable params: 34,826\n",
            "Non-trainable params: 0\n",
            "_________________________________________________________________\n"
          ]
        }
      ]
    },
    {
      "cell_type": "code",
      "source": [
        "batch_size = 128\n",
        "epochs = 50\n",
        "\n",
        "model.compile(loss=\"categorical_crossentropy\", optimizer=\"adam\", metrics=[\"accuracy\"])\n",
        "\n",
        "model.fit(x_train, y_train, batch_size=batch_size, epochs=epochs, validation_split=0.1)\n"
      ],
      "metadata": {
        "colab": {
          "base_uri": "https://localhost:8080/"
        },
        "id": "vL9v4V7sYon-",
        "outputId": "0141244f-2cb4-47b3-d899-691868467141"
      },
      "execution_count": 4,
      "outputs": [
        {
          "output_type": "stream",
          "name": "stdout",
          "text": [
            "Epoch 1/50\n",
            "422/422 [==============================] - 6s 8ms/step - loss: 0.3686 - accuracy: 0.8888 - val_loss: 0.0807 - val_accuracy: 0.9783\n",
            "Epoch 2/50\n",
            "422/422 [==============================] - 4s 8ms/step - loss: 0.1167 - accuracy: 0.9641 - val_loss: 0.0600 - val_accuracy: 0.9828\n",
            "Epoch 3/50\n",
            "422/422 [==============================] - 4s 9ms/step - loss: 0.0888 - accuracy: 0.9729 - val_loss: 0.0495 - val_accuracy: 0.9868\n",
            "Epoch 4/50\n",
            "422/422 [==============================] - 4s 9ms/step - loss: 0.0761 - accuracy: 0.9761 - val_loss: 0.0420 - val_accuracy: 0.9888\n",
            "Epoch 5/50\n",
            "422/422 [==============================] - 3s 6ms/step - loss: 0.0662 - accuracy: 0.9796 - val_loss: 0.0457 - val_accuracy: 0.9880\n",
            "Epoch 6/50\n",
            "422/422 [==============================] - 2s 5ms/step - loss: 0.0588 - accuracy: 0.9817 - val_loss: 0.0373 - val_accuracy: 0.9895\n",
            "Epoch 7/50\n",
            "422/422 [==============================] - 2s 5ms/step - loss: 0.0554 - accuracy: 0.9827 - val_loss: 0.0352 - val_accuracy: 0.9908\n",
            "Epoch 8/50\n",
            "422/422 [==============================] - 2s 5ms/step - loss: 0.0516 - accuracy: 0.9836 - val_loss: 0.0329 - val_accuracy: 0.9918\n",
            "Epoch 9/50\n",
            "422/422 [==============================] - 2s 5ms/step - loss: 0.0459 - accuracy: 0.9855 - val_loss: 0.0292 - val_accuracy: 0.9922\n",
            "Epoch 10/50\n",
            "422/422 [==============================] - 2s 5ms/step - loss: 0.0440 - accuracy: 0.9863 - val_loss: 0.0298 - val_accuracy: 0.9918\n",
            "Epoch 11/50\n",
            "422/422 [==============================] - 2s 5ms/step - loss: 0.0417 - accuracy: 0.9867 - val_loss: 0.0272 - val_accuracy: 0.9927\n",
            "Epoch 12/50\n",
            "422/422 [==============================] - 2s 5ms/step - loss: 0.0403 - accuracy: 0.9867 - val_loss: 0.0266 - val_accuracy: 0.9932\n",
            "Epoch 13/50\n",
            "422/422 [==============================] - 2s 5ms/step - loss: 0.0376 - accuracy: 0.9878 - val_loss: 0.0315 - val_accuracy: 0.9925\n",
            "Epoch 14/50\n",
            "422/422 [==============================] - 2s 5ms/step - loss: 0.0370 - accuracy: 0.9881 - val_loss: 0.0280 - val_accuracy: 0.9925\n",
            "Epoch 15/50\n",
            "422/422 [==============================] - 2s 5ms/step - loss: 0.0345 - accuracy: 0.9892 - val_loss: 0.0296 - val_accuracy: 0.9917\n",
            "Epoch 16/50\n",
            "422/422 [==============================] - 2s 5ms/step - loss: 0.0351 - accuracy: 0.9886 - val_loss: 0.0276 - val_accuracy: 0.9928\n",
            "Epoch 17/50\n",
            "422/422 [==============================] - 2s 5ms/step - loss: 0.0319 - accuracy: 0.9897 - val_loss: 0.0261 - val_accuracy: 0.9932\n",
            "Epoch 18/50\n",
            "422/422 [==============================] - 2s 5ms/step - loss: 0.0313 - accuracy: 0.9898 - val_loss: 0.0258 - val_accuracy: 0.9937\n",
            "Epoch 19/50\n",
            "422/422 [==============================] - 2s 5ms/step - loss: 0.0310 - accuracy: 0.9896 - val_loss: 0.0251 - val_accuracy: 0.9928\n",
            "Epoch 20/50\n",
            "422/422 [==============================] - 2s 5ms/step - loss: 0.0292 - accuracy: 0.9899 - val_loss: 0.0275 - val_accuracy: 0.9925\n",
            "Epoch 21/50\n",
            "422/422 [==============================] - 2s 5ms/step - loss: 0.0278 - accuracy: 0.9907 - val_loss: 0.0280 - val_accuracy: 0.9928\n",
            "Epoch 22/50\n",
            "422/422 [==============================] - 2s 5ms/step - loss: 0.0280 - accuracy: 0.9909 - val_loss: 0.0267 - val_accuracy: 0.9937\n",
            "Epoch 23/50\n",
            "422/422 [==============================] - 2s 5ms/step - loss: 0.0265 - accuracy: 0.9913 - val_loss: 0.0270 - val_accuracy: 0.9917\n",
            "Epoch 24/50\n",
            "422/422 [==============================] - 2s 5ms/step - loss: 0.0255 - accuracy: 0.9918 - val_loss: 0.0263 - val_accuracy: 0.9922\n",
            "Epoch 25/50\n",
            "422/422 [==============================] - 2s 5ms/step - loss: 0.0256 - accuracy: 0.9916 - val_loss: 0.0268 - val_accuracy: 0.9932\n",
            "Epoch 26/50\n",
            "422/422 [==============================] - 2s 5ms/step - loss: 0.0247 - accuracy: 0.9923 - val_loss: 0.0282 - val_accuracy: 0.9933\n",
            "Epoch 27/50\n",
            "422/422 [==============================] - 2s 5ms/step - loss: 0.0253 - accuracy: 0.9916 - val_loss: 0.0261 - val_accuracy: 0.9928\n",
            "Epoch 28/50\n",
            "422/422 [==============================] - 2s 5ms/step - loss: 0.0237 - accuracy: 0.9923 - val_loss: 0.0274 - val_accuracy: 0.9933\n",
            "Epoch 29/50\n",
            "422/422 [==============================] - 2s 5ms/step - loss: 0.0239 - accuracy: 0.9921 - val_loss: 0.0265 - val_accuracy: 0.9932\n",
            "Epoch 30/50\n",
            "422/422 [==============================] - 2s 5ms/step - loss: 0.0224 - accuracy: 0.9926 - val_loss: 0.0259 - val_accuracy: 0.9923\n",
            "Epoch 31/50\n",
            "422/422 [==============================] - 3s 6ms/step - loss: 0.0220 - accuracy: 0.9926 - val_loss: 0.0276 - val_accuracy: 0.9932\n",
            "Epoch 32/50\n",
            "422/422 [==============================] - 2s 6ms/step - loss: 0.0205 - accuracy: 0.9932 - val_loss: 0.0250 - val_accuracy: 0.9935\n",
            "Epoch 33/50\n",
            "422/422 [==============================] - 2s 5ms/step - loss: 0.0218 - accuracy: 0.9927 - val_loss: 0.0290 - val_accuracy: 0.9922\n",
            "Epoch 34/50\n",
            "422/422 [==============================] - 2s 5ms/step - loss: 0.0205 - accuracy: 0.9929 - val_loss: 0.0270 - val_accuracy: 0.9935\n",
            "Epoch 35/50\n",
            "422/422 [==============================] - 2s 5ms/step - loss: 0.0199 - accuracy: 0.9930 - val_loss: 0.0284 - val_accuracy: 0.9933\n",
            "Epoch 36/50\n",
            "422/422 [==============================] - 2s 5ms/step - loss: 0.0204 - accuracy: 0.9928 - val_loss: 0.0298 - val_accuracy: 0.9922\n",
            "Epoch 37/50\n",
            "422/422 [==============================] - 2s 5ms/step - loss: 0.0201 - accuracy: 0.9934 - val_loss: 0.0303 - val_accuracy: 0.9925\n",
            "Epoch 38/50\n",
            "422/422 [==============================] - 2s 5ms/step - loss: 0.0194 - accuracy: 0.9934 - val_loss: 0.0286 - val_accuracy: 0.9928\n",
            "Epoch 39/50\n",
            "422/422 [==============================] - 2s 5ms/step - loss: 0.0193 - accuracy: 0.9933 - val_loss: 0.0301 - val_accuracy: 0.9918\n",
            "Epoch 40/50\n",
            "422/422 [==============================] - 2s 5ms/step - loss: 0.0167 - accuracy: 0.9945 - val_loss: 0.0306 - val_accuracy: 0.9925\n",
            "Epoch 41/50\n",
            "422/422 [==============================] - 2s 5ms/step - loss: 0.0181 - accuracy: 0.9934 - val_loss: 0.0295 - val_accuracy: 0.9935\n",
            "Epoch 42/50\n",
            "422/422 [==============================] - 2s 5ms/step - loss: 0.0183 - accuracy: 0.9938 - val_loss: 0.0285 - val_accuracy: 0.9930\n",
            "Epoch 43/50\n",
            "422/422 [==============================] - 2s 5ms/step - loss: 0.0170 - accuracy: 0.9941 - val_loss: 0.0259 - val_accuracy: 0.9935\n",
            "Epoch 44/50\n",
            "422/422 [==============================] - 2s 5ms/step - loss: 0.0172 - accuracy: 0.9946 - val_loss: 0.0287 - val_accuracy: 0.9927\n",
            "Epoch 45/50\n",
            "422/422 [==============================] - 2s 5ms/step - loss: 0.0164 - accuracy: 0.9942 - val_loss: 0.0287 - val_accuracy: 0.9930\n",
            "Epoch 46/50\n",
            "422/422 [==============================] - 2s 5ms/step - loss: 0.0167 - accuracy: 0.9942 - val_loss: 0.0282 - val_accuracy: 0.9928\n",
            "Epoch 47/50\n",
            "422/422 [==============================] - 2s 5ms/step - loss: 0.0149 - accuracy: 0.9949 - val_loss: 0.0275 - val_accuracy: 0.9928\n",
            "Epoch 48/50\n",
            "422/422 [==============================] - 2s 5ms/step - loss: 0.0162 - accuracy: 0.9943 - val_loss: 0.0250 - val_accuracy: 0.9937\n",
            "Epoch 49/50\n",
            "422/422 [==============================] - 2s 5ms/step - loss: 0.0162 - accuracy: 0.9946 - val_loss: 0.0275 - val_accuracy: 0.9930\n",
            "Epoch 50/50\n",
            "422/422 [==============================] - 2s 5ms/step - loss: 0.0148 - accuracy: 0.9946 - val_loss: 0.0279 - val_accuracy: 0.9925\n"
          ]
        },
        {
          "output_type": "execute_result",
          "data": {
            "text/plain": [
              "<keras.callbacks.History at 0x7fe167714290>"
            ]
          },
          "metadata": {},
          "execution_count": 4
        }
      ]
    },
    {
      "cell_type": "code",
      "source": [
        "score = model.evaluate(x_test, y_test, verbose=0)\n",
        "print(\"Test loss:\", score[0])\n",
        "print(\"Test accuracy:\", score[1])\n"
      ],
      "metadata": {
        "colab": {
          "base_uri": "https://localhost:8080/"
        },
        "id": "JBL3R1Q5YuLu",
        "outputId": "2763540a-1954-4b60-c6aa-8ffd5ffbc47f"
      },
      "execution_count": 5,
      "outputs": [
        {
          "output_type": "stream",
          "name": "stdout",
          "text": [
            "Test loss: 0.025713056325912476\n",
            "Test accuracy: 0.9930999875068665\n"
          ]
        }
      ]
    },
    {
      "cell_type": "code",
      "source": [
        "import matplotlib.pyplot as plt\n",
        "import cv2"
      ],
      "metadata": {
        "id": "sxmBJRR9ZR41"
      },
      "execution_count": 6,
      "outputs": []
    },
    {
      "cell_type": "code",
      "source": [
        "img = cv2.imread(\"/content/WhatsApp Image 2022-09-21 at 17.06.38.jpeg\", cv2.IMREAD_GRAYSCALE)"
      ],
      "metadata": {
        "id": "TROgL4foaA62"
      },
      "execution_count": 17,
      "outputs": []
    },
    {
      "cell_type": "code",
      "source": [
        "plt.imshow(img, cmap=\"gray\")"
      ],
      "metadata": {
        "colab": {
          "base_uri": "https://localhost:8080/",
          "height": 285
        },
        "id": "I_fjXoaNcOku",
        "outputId": "1a3e9a9b-4027-43d7-e8ce-2c1cc4a6832c"
      },
      "execution_count": 18,
      "outputs": [
        {
          "output_type": "execute_result",
          "data": {
            "text/plain": [
              "<matplotlib.image.AxesImage at 0x7fe038128e50>"
            ]
          },
          "metadata": {},
          "execution_count": 18
        },
        {
          "output_type": "display_data",
          "data": {
            "text/plain": [
              "<Figure size 432x288 with 1 Axes>"
            ],
            "image/png": "[encoded data removed]"
          },
          "metadata": {
            "needs_background": "light"
          }
        }
      ]
    },
    {
      "cell_type": "code",
      "source": [
        "img_resized = cv2.resize(img, (28, 28), interpolation=cv2.INTER_LINEAR)\n",
        "img_resized = cv2.bitwise_not(img_resized)\n",
        "plt.imshow(img_resized, cmap=\"gray\")"
      ],
      "metadata": {
        "colab": {
          "base_uri": "https://localhost:8080/",
          "height": 283
        },
        "id": "BXI0ofTvbt7T",
        "outputId": "aeab817a-188a-40c0-9ec1-f4314f4108d9"
      },
      "execution_count": 19,
      "outputs": [
        {
          "output_type": "execute_result",
          "data": {
            "text/plain": [
              "<matplotlib.image.AxesImage at 0x7fe0d404f5d0>"
            ]
          },
          "metadata": {},
          "execution_count": 19
        },
        {
          "output_type": "display_data",
          "data": {
            "text/plain": [
              "<Figure size 432x288 with 1 Axes>"
            ],
            "image/png": "[encoded data removed]"
          },
          "metadata": {
            "needs_background": "light"
          }
        }
      ]
    },
    {
      "cell_type": "code",
      "source": [
        "img_resized.shape"
      ],
      "metadata": {
        "colab": {
          "base_uri": "https://localhost:8080/"
        },
        "id": "nuuXMeXrg0Gl",
        "outputId": "b0e996d6-6beb-42c6-a090-122b105938ed"
      },
      "execution_count": 20,
      "outputs": [
        {
          "output_type": "execute_result",
          "data": {
            "text/plain": [
              "(28, 28)"
            ]
          },
          "metadata": {},
          "execution_count": 20
        }
      ]
    },
    {
      "cell_type": "code",
      "source": [
        "img_resized = img_resized.astype(\"float32\") / 255\n",
        "\n",
        "img_resized.shape"
      ],
      "metadata": {
        "colab": {
          "base_uri": "https://localhost:8080/"
        },
        "id": "944LIZg6dvDE",
        "outputId": "f628fc9d-5847-47fc-a562-3360c2b6a341"
      },
      "execution_count": 21,
      "outputs": [
        {
          "output_type": "execute_result",
          "data": {
            "text/plain": [
              "(28, 28)"
            ]
          },
          "metadata": {},
          "execution_count": 21
        }
      ]
    },
    {
      "cell_type": "code",
      "source": [
        "np.expand_dims(img_resized,0).shape"
      ],
      "metadata": {
        "colab": {
          "base_uri": "https://localhost:8080/"
        },
        "id": "KVjGjCDWpPo4",
        "outputId": "5ebfb5cd-8177-4b0e-be05-49e254799cc8"
      },
      "execution_count": 31,
      "outputs": [
        {
          "output_type": "execute_result",
          "data": {
            "text/plain": [
              "(1, 28, 28)"
            ]
          },
          "metadata": {},
          "execution_count": 31
        }
      ]
    },
    {
      "cell_type": "code",
      "source": [
        "res = model.predict(np.expand_dims(img_resized,0))"
      ],
      "metadata": {
        "id": "gjdDmfAbg5EQ"
      },
      "execution_count": 32,
      "outputs": []
    },
    {
      "cell_type": "code",
      "source": [
        "res.argmax()"
      ],
      "metadata": {
        "colab": {
          "base_uri": "https://localhost:8080/"
        },
        "id": "gFMDLLRJpCk6",
        "outputId": "75e2f6d9-5fcb-42b2-fbe0-605f255f462d"
      },
      "execution_count": 33,
      "outputs": [
        {
          "output_type": "execute_result",
          "data": {
            "text/plain": [
              "4"
            ]
          },
          "metadata": {},
          "execution_count": 33
        }
      ]
    }
  ]
}